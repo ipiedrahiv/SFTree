{
 "cells": [
  {
   "cell_type": "code",
   "execution_count": 3,
   "metadata": {},
   "outputs": [],
   "source": [
    "%matplotlib inline\n",
    "\n",
    "from lark import Lark"
   ]
  },
  {
   "cell_type": "code",
   "execution_count": 29,
   "metadata": {},
   "outputs": [],
   "source": [
    "grammar = \"\"\"\n",
    "    start: boolean\n",
    "\n",
    "    negation: \"!\"\n",
    "    boolean: \"True\" | \"False\"\n",
    "        \n",
    "    material_implication: \"->\"\n",
    "    material_equivalence: \"<->\"\n",
    "    \n",
    "    logical_conjunction: \"and\"\n",
    "    logical_disjunction: \"or\"\n",
    "    exclusive_disjunction: \"xor\"\n",
    "    \n",
    "    connector: material_implication\n",
    "               | material_equivalence\n",
    "               | logical_conjunction\n",
    "               | logical_disjunction\n",
    "               | exclusive_disjunction\n",
    "    \n",
    "    \n",
    "\"\"\""
   ]
  },
  {
   "cell_type": "code",
   "execution_count": 30,
   "metadata": {},
   "outputs": [],
   "source": [
    "calc_parser = Lark(grammar, parser='lalr')"
   ]
  },
  {
   "cell_type": "code",
   "execution_count": null,
   "metadata": {},
   "outputs": [],
   "source": []
  }
 ],
 "metadata": {
  "kernelspec": {
   "display_name": "Python 3",
   "language": "python",
   "name": "python3"
  },
  "language_info": {
   "codemirror_mode": {
    "name": "ipython",
    "version": 3
   },
   "file_extension": ".py",
   "mimetype": "text/x-python",
   "name": "python",
   "nbconvert_exporter": "python",
   "pygments_lexer": "ipython3",
   "version": "3.7.3"
  }
 },
 "nbformat": 4,
 "nbformat_minor": 2
}
