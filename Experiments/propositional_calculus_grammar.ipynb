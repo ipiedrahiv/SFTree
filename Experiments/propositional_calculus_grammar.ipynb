{
 "cells": [
  {
   "cell_type": "code",
   "execution_count": 63,
   "metadata": {},
   "outputs": [],
   "source": [
    "%matplotlib inline\n",
    "\n",
    "from lark import Lark"
   ]
  },
  {
   "cell_type": "code",
   "execution_count": 64,
   "metadata": {},
   "outputs": [],
   "source": [
    "grammar = \"\"\"\n",
    "    start: complex_sentence\n",
    "\n",
    "    NEGATION: \"!\"\n",
    "    \n",
    "    TRUE: \"TRUE\"\n",
    "    FALSE: \"FALSE\"\n",
    "    boolean: TRUE | FALSE\n",
    "        \n",
    "    MATERIAL_IMPLICATION: \"->\"\n",
    "    MATERIAL_EQUIVALENCE: \"<->\"\n",
    "    \n",
    "    LOGICAL_CONJUNCTION: \"AND\"\n",
    "    LOGICAL_DISJUNCTION: \"OR\"\n",
    "    EXCLUSIVE_DISJUNCTION: \"XOR\"\n",
    "            \n",
    "    connector: MATERIAL_IMPLICATION\n",
    "               | MATERIAL_EQUIVALENCE\n",
    "               | LOGICAL_CONJUNCTION\n",
    "               | LOGICAL_DISJUNCTION\n",
    "               | EXCLUSIVE_DISJUNCTION\n",
    "    \n",
    "    ID: LETTER+\n",
    "        \n",
    "    atomic_sentence: ID\n",
    "                     | boolean\n",
    "    \n",
    "    complex_sentence: atomic_sentence\n",
    "                      | NEGATION atomic_sentence\n",
    "                      | atomic_sentence \" \" connector \" \" atomic_sentence\n",
    "                      | complex_sentence \" \" connector \" \" complex_sentence\n",
    "    \n",
    "    %import common.LETTER\n",
    "\"\"\""
   ]
  },
  {
   "cell_type": "code",
   "execution_count": 65,
   "metadata": {},
   "outputs": [
    {
     "data": {
      "text/plain": [
       "Tree(start, [Tree(complex_sentence, [Tree(complex_sentence, [Tree(atomic_sentence, [Token(ID, 'A')])]), Tree(connector, [Token(LOGICAL_DISJUNCTION, 'OR')]), Tree(complex_sentence, [Tree(complex_sentence, [Tree(atomic_sentence, [Token(ID, 'C')])]), Tree(connector, [Token(EXCLUSIVE_DISJUNCTION, 'XOR')]), Tree(complex_sentence, [Tree(complex_sentence, [Tree(atomic_sentence, [Token(ID, 'B')])]), Tree(connector, [Token(MATERIAL_IMPLICATION, '->')]), Tree(complex_sentence, [Token(NEGATION, '!'), Tree(atomic_sentence, [Token(ID, 'B')])])])])])])"
      ]
     },
     "execution_count": 65,
     "metadata": {},
     "output_type": "execute_result"
    }
   ],
   "source": [
    "prop_calc_parser = Lark(grammar, parser='earley')\n",
    "\n",
    "prop_calc_parser.parse(\"A OR C XOR B -> !B\")"
   ]
  },
  {
   "cell_type": "code",
   "execution_count": null,
   "metadata": {},
   "outputs": [],
   "source": []
  }
 ],
 "metadata": {
  "kernelspec": {
   "display_name": "Python 3",
   "language": "python",
   "name": "python3"
  },
  "language_info": {
   "codemirror_mode": {
    "name": "ipython",
    "version": 3
   },
   "file_extension": ".py",
   "mimetype": "text/x-python",
   "name": "python",
   "nbconvert_exporter": "python",
   "pygments_lexer": "ipython3",
   "version": "3.7.3"
  }
 },
 "nbformat": 4,
 "nbformat_minor": 2
}
