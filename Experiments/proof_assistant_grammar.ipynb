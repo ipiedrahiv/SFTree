{
 "cells": [
  {
   "cell_type": "code",
   "execution_count": 1,
   "metadata": {},
   "outputs": [],
   "source": [
    "%matplotlib inline\n",
    "\n",
    "from lark import Lark, tree"
   ]
  },
  {
   "cell_type": "markdown",
   "metadata": {},
   "source": [
    "### Proof Gramar Example\n",
    "\n",
    "~~~~\n",
    "argument {\n",
    "    premise: P \\/ (Q \\/ -R)\n",
    "    premise: P -> -R\n",
    "    premise: Q -> -R\n",
    "    conclusion: -R\n",
    "}\n",
    "\n",
    "proof {\n",
    "\n",
    "}\n",
    "~~~~\n",
    "\n",
    "### Fitch Rule Summary\n",
    "\n",
    "__Deduction Theorem:__ A sentence φ logically entails a sentence ψ if and only if (φ ⇒ ψ) is valid. More generally, a finite set of sentences {φ1, ... , φn} logically entails φ if and only if the compound sentence (φ1 ∧ ... ∧ φn ⇒ φ) is valid.\n",
    "\n",
    "__Unsatisfiability Theorem:__ A set Δ of sentences logically entails a sentence φ if and only if the set of sentences Δ ∪ {¬φ} is unsatisfiable.\n",
    "\n",
    "__Consistency Theorem:__ A sentence φ is logically consistent with a sentence ψ if and only if the sentence (φ ∧ ψ) is satisfiable. More generally, a sentence φ is logically consistent with a finite set of sentences {φ1, ... , φn} if and only if the compound sentence (φ1 ∧ ... ∧ φn ∧ φ) is satisfiable.\n",
    "\n",
    "__Assumption__: Conditional proof (ACP) Asumes an expresion that will become the antecedent (φ) of an implication and operated until it finds a suitable consecuent (ψ), once this happens the CP has been completed, and it is proved that φ ⇒ ψ. Indirect proof (AIP) Assumes any expression (φ), and operates with it and the global premises until a contradiction is reached, if this happens then it is proved that it is the case that ¬φ.\n",
    "\n"
   ]
  },
  {
   "cell_type": "code",
   "execution_count": 6,
   "metadata": {},
   "outputs": [],
   "source": [
    "grammar = r\"\"\"\n",
    "    start: argument\n",
    "    \n",
    "    ATOM: UCASE_LETTER+\n",
    "\n",
    "    premise: \"premise\" \":\" complex_sentence\n",
    "    conclusion: \"conclusion\" \":\" complex_sentence\n",
    "    \n",
    "    argument: \"argument\" \"{\" [premise (\";\" premise)*] \";\" conclusion \";\" \"}\"\n",
    "    \n",
    "    NEGATION: \"~\"\n",
    "    \n",
    "    TRUE: \"TRUE\"\n",
    "    FALSE: \"FALSE\"\n",
    "    boolean: TRUE | FALSE\n",
    "        \n",
    "    MATERIAL_IMPLICATION: \"->\"\n",
    "    MATERIAL_EQUIVALENCE: \"<->\"\n",
    "    \n",
    "    LOGICAL_CONJUNCTION: \"AND\"\n",
    "    LOGICAL_DISJUNCTION: \"OR\"\n",
    "    EXCLUSIVE_DISJUNCTION: \"XOR\"\n",
    "    \n",
    "    connector: MATERIAL_IMPLICATION\n",
    "               | MATERIAL_EQUIVALENCE\n",
    "               | LOGICAL_CONJUNCTION\n",
    "               | LOGICAL_DISJUNCTION\n",
    "               | EXCLUSIVE_DISJUNCTION\n",
    "               \n",
    "    atomic_sentence: ATOM\n",
    "                     | boolean\n",
    "                     \n",
    "    complex_sentence: atomic_sentence\n",
    "                      | NEGATION complex_sentence\n",
    "                      | complex_sentence connector complex_sentence\n",
    "                      | \"(\" complex_sentence \")\"\n",
    "                      | \"[\" complex_sentence \"]\"\n",
    "                      | \"{\" complex_sentence \"}\"\n",
    "                  \n",
    "    %import common.WS\n",
    "    %import common.UCASE_LETTER\n",
    "    \n",
    "    %ignore WS\n",
    "\"\"\""
   ]
  },
  {
   "cell_type": "code",
   "execution_count": 12,
   "metadata": {},
   "outputs": [
    {
     "data": {
      "text/plain": [
       "Tree(start, [Tree(argument, [Tree(premise, [Tree(complex_sentence, [Tree(complex_sentence, [Tree(complex_sentence, [Tree(complex_sentence, [Tree(complex_sentence, [Tree(atomic_sentence, [Token(ATOM, 'A')])]), Tree(connector, [Token(LOGICAL_CONJUNCTION, 'AND')]), Tree(complex_sentence, [Tree(atomic_sentence, [Token(ATOM, 'B')])])])]), Tree(connector, [Token(MATERIAL_IMPLICATION, '->')]), Tree(complex_sentence, [Tree(complex_sentence, [Tree(complex_sentence, [Tree(atomic_sentence, [Token(ATOM, 'C')])]), Tree(connector, [Token(LOGICAL_DISJUNCTION, 'OR')]), Tree(complex_sentence, [Tree(atomic_sentence, [Token(ATOM, 'D')])])])])])])]), Tree(premise, [Tree(complex_sentence, [Tree(complex_sentence, [Tree(atomic_sentence, [Token(ATOM, 'C')])]), Tree(connector, [Token(MATERIAL_EQUIVALENCE, '<->')]), Tree(complex_sentence, [Tree(atomic_sentence, [Token(ATOM, 'E')])])])]), Tree(premise, [Tree(complex_sentence, [Tree(complex_sentence, [Token(NEGATION, '~'), Tree(complex_sentence, [Tree(atomic_sentence, [Token(ATOM, 'E')])])]), Tree(connector, [Token(LOGICAL_CONJUNCTION, 'AND')]), Tree(complex_sentence, [Token(NEGATION, '~'), Tree(complex_sentence, [Tree(atomic_sentence, [Token(ATOM, 'D')])])])])]), Tree(conclusion, [Tree(complex_sentence, [Tree(complex_sentence, [Tree(atomic_sentence, [Token(ATOM, 'A')])]), Tree(connector, [Token(MATERIAL_IMPLICATION, '->')]), Tree(complex_sentence, [Token(NEGATION, '~'), Tree(complex_sentence, [Tree(atomic_sentence, [Token(ATOM, 'B')])])])])])])])"
      ]
     },
     "execution_count": 12,
     "metadata": {},
     "output_type": "execute_result"
    }
   ],
   "source": [
    "parser = Lark(grammar, parser=\"earley\")\n",
    "\n",
    "parser.parse(\n",
    "\"\"\"\n",
    "argument {\n",
    "    premise: [(A AND B) -> (C OR D)];\n",
    "    premise: C <-> E;\n",
    "    premise: ~E AND ~D;\n",
    "    conclusion: A -> ~B;\n",
    "}\n",
    "\"\"\"\n",
    ")"
   ]
  },
  {
   "cell_type": "code",
   "execution_count": null,
   "metadata": {},
   "outputs": [],
   "source": []
  }
 ],
 "metadata": {
  "kernelspec": {
   "display_name": "Python 3",
   "language": "python",
   "name": "python3"
  },
  "language_info": {
   "codemirror_mode": {
    "name": "ipython",
    "version": 3
   },
   "file_extension": ".py",
   "mimetype": "text/x-python",
   "name": "python",
   "nbconvert_exporter": "python",
   "pygments_lexer": "ipython3",
   "version": "3.7.3"
  }
 },
 "nbformat": 4,
 "nbformat_minor": 2
}
